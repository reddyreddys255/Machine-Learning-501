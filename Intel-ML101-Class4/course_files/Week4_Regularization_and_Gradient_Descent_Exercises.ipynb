{
 "cells": [
  {
   "cell_type": "markdown",
   "metadata": {},
   "source": [
    "# Regularization and Gradient Descent Exercises "
   ]
  },
  {
   "cell_type": "markdown",
   "metadata": {},
   "source": [
    "### Introduction \n",
    "Short tutorial on regression, polynomial features, and regularization. \n",
    "Data is `X_Y_Sinusoid_Data.csv`"
   ]
  },
  {
   "cell_type": "code",
   "execution_count": 5,
   "metadata": {
    "collapsed": true
   },
   "outputs": [],
   "source": [
    "from __future__ import print_function \n",
    "import os \n",
    "data_path = ['C:/Users/japor/Desktop/Machine Learning 501 Nervana/Intel-ML101-Class4/data']"
   ]
  },
  {
   "cell_type": "markdown",
   "metadata": {},
   "source": [
    "### Question 1\n",
    "* Import data \n"
   ]
  },
  {
   "cell_type": "code",
   "execution_count": 7,
   "metadata": {},
   "outputs": [
    {
     "data": {
      "text/html": [
       "<div>\n",
       "<style>\n",
       "    .dataframe thead tr:only-child th {\n",
       "        text-align: right;\n",
       "    }\n",
       "\n",
       "    .dataframe thead th {\n",
       "        text-align: left;\n",
       "    }\n",
       "\n",
       "    .dataframe tbody tr th {\n",
       "        vertical-align: top;\n",
       "    }\n",
       "</style>\n",
       "<table border=\"1\" class=\"dataframe\">\n",
       "  <thead>\n",
       "    <tr style=\"text-align: right;\">\n",
       "      <th></th>\n",
       "      <th>x</th>\n",
       "      <th>y</th>\n",
       "    </tr>\n",
       "  </thead>\n",
       "  <tbody>\n",
       "    <tr>\n",
       "      <th>0</th>\n",
       "      <td>0.038571</td>\n",
       "      <td>0.066391</td>\n",
       "    </tr>\n",
       "    <tr>\n",
       "      <th>1</th>\n",
       "      <td>0.166776</td>\n",
       "      <td>1.027483</td>\n",
       "    </tr>\n",
       "    <tr>\n",
       "      <th>2</th>\n",
       "      <td>0.183153</td>\n",
       "      <td>1.245302</td>\n",
       "    </tr>\n",
       "    <tr>\n",
       "      <th>3</th>\n",
       "      <td>0.187359</td>\n",
       "      <td>1.004781</td>\n",
       "    </tr>\n",
       "    <tr>\n",
       "      <th>4</th>\n",
       "      <td>0.243116</td>\n",
       "      <td>1.264121</td>\n",
       "    </tr>\n",
       "    <tr>\n",
       "      <th>5</th>\n",
       "      <td>0.289299</td>\n",
       "      <td>0.498330</td>\n",
       "    </tr>\n",
       "    <tr>\n",
       "      <th>6</th>\n",
       "      <td>0.342805</td>\n",
       "      <td>0.597502</td>\n",
       "    </tr>\n",
       "    <tr>\n",
       "      <th>7</th>\n",
       "      <td>0.345499</td>\n",
       "      <td>0.629410</td>\n",
       "    </tr>\n",
       "    <tr>\n",
       "      <th>8</th>\n",
       "      <td>0.386477</td>\n",
       "      <td>0.822705</td>\n",
       "    </tr>\n",
       "    <tr>\n",
       "      <th>9</th>\n",
       "      <td>0.430047</td>\n",
       "      <td>0.557581</td>\n",
       "    </tr>\n",
       "    <tr>\n",
       "      <th>10</th>\n",
       "      <td>0.484498</td>\n",
       "      <td>0.565053</td>\n",
       "    </tr>\n",
       "    <tr>\n",
       "      <th>11</th>\n",
       "      <td>0.491929</td>\n",
       "      <td>-0.393222</td>\n",
       "    </tr>\n",
       "    <tr>\n",
       "      <th>12</th>\n",
       "      <td>0.614932</td>\n",
       "      <td>-0.912892</td>\n",
       "    </tr>\n",
       "    <tr>\n",
       "      <th>13</th>\n",
       "      <td>0.638054</td>\n",
       "      <td>-1.128250</td>\n",
       "    </tr>\n",
       "    <tr>\n",
       "      <th>14</th>\n",
       "      <td>0.697736</td>\n",
       "      <td>-1.110455</td>\n",
       "    </tr>\n",
       "    <tr>\n",
       "      <th>15</th>\n",
       "      <td>0.702427</td>\n",
       "      <td>-0.570343</td>\n",
       "    </tr>\n",
       "    <tr>\n",
       "      <th>16</th>\n",
       "      <td>0.729086</td>\n",
       "      <td>-0.620209</td>\n",
       "    </tr>\n",
       "    <tr>\n",
       "      <th>17</th>\n",
       "      <td>0.873401</td>\n",
       "      <td>-0.873236</td>\n",
       "    </tr>\n",
       "    <tr>\n",
       "      <th>18</th>\n",
       "      <td>0.898007</td>\n",
       "      <td>-0.187472</td>\n",
       "    </tr>\n",
       "    <tr>\n",
       "      <th>19</th>\n",
       "      <td>0.950964</td>\n",
       "      <td>-0.025815</td>\n",
       "    </tr>\n",
       "  </tbody>\n",
       "</table>\n",
       "</div>"
      ],
      "text/plain": [
       "           x         y\n",
       "0   0.038571  0.066391\n",
       "1   0.166776  1.027483\n",
       "2   0.183153  1.245302\n",
       "3   0.187359  1.004781\n",
       "4   0.243116  1.264121\n",
       "5   0.289299  0.498330\n",
       "6   0.342805  0.597502\n",
       "7   0.345499  0.629410\n",
       "8   0.386477  0.822705\n",
       "9   0.430047  0.557581\n",
       "10  0.484498  0.565053\n",
       "11  0.491929 -0.393222\n",
       "12  0.614932 -0.912892\n",
       "13  0.638054 -1.128250\n",
       "14  0.697736 -1.110455\n",
       "15  0.702427 -0.570343\n",
       "16  0.729086 -0.620209\n",
       "17  0.873401 -0.873236\n",
       "18  0.898007 -0.187472\n",
       "19  0.950964 -0.025815"
      ]
     },
     "execution_count": 7,
     "metadata": {},
     "output_type": "execute_result"
    }
   ],
   "source": [
    "import pandas as pd \n",
    "import numpy as np \n",
    "\n",
    "filepath = os.sep.join(data_path + ['X_Y_Sinusoid_Data.csv'])\n",
    "data = pd.read_csv(filepath)\n",
    "data"
   ]
  },
  {
   "cell_type": "markdown",
   "metadata": {},
   "source": [
    "* Generate approximately 100 equally spaced x data points over the range of 0 to 1. Using these points, calculate the y-data which represents the \"ground truth\" (the real function) from the equation: $y = sin(2\\pi x)$\n"
   ]
  },
  {
   "cell_type": "code",
   "execution_count": 11,
   "metadata": {
    "collapsed": true
   },
   "outputs": [],
   "source": [
    "X_real = np.linspace(0, 1.0, 100)\n",
    "Y_real = np.sin(2 * np.pi * X_real)"
   ]
  },
  {
   "cell_type": "markdown",
   "metadata": {},
   "source": [
    "* Plot the sparse data (x vs. y) and the calculated (\"real\") data"
   ]
  },
  {
   "cell_type": "code",
   "execution_count": 19,
   "metadata": {},
   "outputs": [
    {
     "data": {
      "image/png": "[encoded data removed]",
      "text/plain": [
       "<matplotlib.figure.Figure at 0x2745961cf60>"
      ]
     },
     "metadata": {},
     "output_type": "display_data"
    }
   ],
   "source": [
    "import matplotlib.pyplot as plt \n",
    "import seaborn as sns \n",
    "\n",
    "% matplotlib inline\n",
    "\n",
    "sns.set_style('white')\n",
    "sns.set_context('talk')\n",
    "sns.set_palette('dark')\n",
    "\n",
    "# Plot of noisy (sparse) data\n",
    "ax = data.set_index('x')['y'].plot(ls = '', marker = 'o', label = 'data')\n",
    "ax.plot(X_real, Y_real, ls = '--', marker = '', label = 'real function');\n",
    "\n",
    "ax.legend()\n",
    "ax.set(xlabel = 'x data', ylabel = 'y data');\n"
   ]
  },
  {
   "cell_type": "markdown",
   "metadata": {},
   "source": [
    "### Question 2 \n",
    "* Using the `PolynomialFeatures` class from Scikit-learn's preprocessing library, create 20th-order polynomial features \n"
   ]
  },
  {
   "cell_type": "code",
   "execution_count": 26,
   "metadata": {
    "collapsed": true
   },
   "outputs": [],
   "source": [
    "from sklearn.preprocessing import PolynomialFeatures\n",
    "from sklearn.linear_model import LinearRegression\n",
    "\n",
    "# Setup the polynomial features \n",
    "degree = 20 \n",
    "pf = PolynomialFeatures(degree)\n",
    "lr = LinearRegression() \n",
    "\n",
    "# Extract the X- and Y- data from the dataframe \n",
    "X_data = data[['x']]\n",
    "Y_data = data['y']\n",
    "\n",
    "# Create the polynomial features\n",
    "X_poly = pf.fit_transform(X_data)\n"
   ]
  },
  {
   "cell_type": "markdown",
   "metadata": {},
   "source": [
    "* Fit this data using linear regression "
   ]
  },
  {
   "cell_type": "code",
   "execution_count": 27,
   "metadata": {
    "collapsed": true
   },
   "outputs": [],
   "source": [
    "# Fit the linear regression model \n",
    "lr = lr.fit(X_poly, Y_data)\n",
    "Y_pred = lr.predict(X_poly)\n"
   ]
  },
  {
   "cell_type": "markdown",
   "metadata": {},
   "source": [
    "* Plot the resulting predicted value compared to the calculated data "
   ]
  },
  {
   "cell_type": "code",
   "execution_count": 31,
   "metadata": {},
   "outputs": [
    {
     "data": {
      "image/png": "[encoded data removed]",
      "text/plain": [
       "<matplotlib.figure.Figure at 0x2745a9d5a90>"
      ]
     },
     "metadata": {},
     "output_type": "display_data"
    }
   ],
   "source": [
    "# Plot the results \n",
    "plt.plot(X_data, Y_data, marker = 'o', ls = '', label = 'data', alpha = 1) # actual data \n",
    "plt.plot(X_real, Y_real, ls = '--', label = 'real function') # true function \n",
    "plt.plot(X_data, Y_pred, marker = '^', alpha = 0.5, label = 'predictions w/ polynomial features')\n",
    "plt.legend()\n",
    "\n",
    "ax = plt.gca()\n",
    "ax.set(xlabel = 'x data', ylabel = 'y data'); "
   ]
  },
  {
   "cell_type": "markdown",
   "metadata": {},
   "source": [
    "### Question 3 \n",
    "* Perform the regression on data with polynomial features using ridge regression $\\alpha$ =0.001) and lasso regression ($\\alpha$ =0.0001)"
   ]
  },
  {
   "cell_type": "code",
   "execution_count": 34,
   "metadata": {
    "collapsed": true
   },
   "outputs": [],
   "source": [
    "from sklearn.linear_model import Ridge, Lasso\n",
    "\n",
    "# Mute the sklearn warning about regularization \n",
    "import warnings \n",
    "warnings.filterwarnings('ignore', module = 'sklearn')\n",
    "\n",
    "# Ridge Regression Model (L2) \n",
    "rr = Ridge(alpha = 0.001)\n",
    "rr = rr.fit(X_poly, Y_data)\n",
    "Y_pred_rr = rr.predict(X_poly)\n",
    "\n",
    "# Lasso Regression Model (L1) \n",
    "lassor = Lasso(alpha = 0.0001)\n",
    "lassor = lassor.fit(X_poly, Y_data)\n",
    "Y_pred_lr = lassor.predict(X_poly)"
   ]
  },
  {
   "cell_type": "markdown",
   "metadata": {},
   "source": [
    "* Plot the results "
   ]
  },
  {
   "cell_type": "code",
   "execution_count": 45,
   "metadata": {},
   "outputs": [
    {
     "data": {
      "image/png": "[encoded data removed]",
      "text/plain": [
       "<matplotlib.figure.Figure at 0x2745b9f6470>"
      ]
     },
     "metadata": {},
     "output_type": "display_data"
    }
   ],
   "source": [
    "# Plot the predicted values \n",
    "plt.plot(X_data, Y_data, marker = 'o', ls = '', label = 'data');\n",
    "plt.plot(X_real, Y_real, ls = '--', label = 'real function'); \n",
    "plt.plot(X_data, Y_pred, label = 'linear regression', marker = '^', alpha = 0.5);\n",
    "plt.plot(X_data, Y_pred_rr, label = 'ridge regression', marker = '^', alpha = 0.5);\n",
    "plt.plot(X_data, Y_pred_lr, label = 'lasso regression', marker = '^', alpha = 0.5);\n",
    "\n",
    "plt.legend();\n",
    "\n",
    "ax = plt.gca()\n",
    "ax.set(xlabel = 'xdata', ylabel = 'ydata');"
   ]
  },
  {
   "cell_type": "markdown",
   "metadata": {},
   "source": [
    "* Plot the magnitude of the coefficients obtained from these regressions and compare them to those obtained from linear regression in the previous question.  The linear regression coefficients will likely need a separate plot (or their own y-axis) due to their large magnitude. "
   ]
  },
  {
   "cell_type": "code",
   "execution_count": 59,
   "metadata": {},
   "outputs": [
    {
     "data": {
      "text/html": [
       "<div>\n",
       "<style>\n",
       "    .dataframe thead tr:only-child th {\n",
       "        text-align: right;\n",
       "    }\n",
       "\n",
       "    .dataframe thead th {\n",
       "        text-align: left;\n",
       "    }\n",
       "\n",
       "    .dataframe tbody tr th {\n",
       "        vertical-align: top;\n",
       "    }\n",
       "</style>\n",
       "<table border=\"1\" class=\"dataframe\">\n",
       "  <thead>\n",
       "    <tr style=\"text-align: right;\">\n",
       "      <th></th>\n",
       "      <th>linear regression</th>\n",
       "      <th>ridge regression</th>\n",
       "      <th>lasso regression</th>\n",
       "    </tr>\n",
       "  </thead>\n",
       "  <tbody>\n",
       "    <tr>\n",
       "      <th>0</th>\n",
       "      <td>3.783472e+12</td>\n",
       "      <td>0.000000</td>\n",
       "      <td>0.000000</td>\n",
       "    </tr>\n",
       "    <tr>\n",
       "      <th>1</th>\n",
       "      <td>1.619371e+07</td>\n",
       "      <td>6.065176</td>\n",
       "      <td>8.490500</td>\n",
       "    </tr>\n",
       "    <tr>\n",
       "      <th>2</th>\n",
       "      <td>4.660425e+08</td>\n",
       "      <td>12.429635</td>\n",
       "      <td>20.176708</td>\n",
       "    </tr>\n",
       "    <tr>\n",
       "      <th>3</th>\n",
       "      <td>7.679855e+09</td>\n",
       "      <td>4.070127</td>\n",
       "      <td>1.641353</td>\n",
       "    </tr>\n",
       "    <tr>\n",
       "      <th>4</th>\n",
       "      <td>8.271033e+10</td>\n",
       "      <td>2.307194</td>\n",
       "      <td>5.698488</td>\n",
       "    </tr>\n",
       "    <tr>\n",
       "      <th>5</th>\n",
       "      <td>6.233828e+11</td>\n",
       "      <td>4.432550</td>\n",
       "      <td>4.601939</td>\n",
       "    </tr>\n",
       "    <tr>\n",
       "      <th>6</th>\n",
       "      <td>3.416390e+12</td>\n",
       "      <td>4.135200</td>\n",
       "      <td>2.170905</td>\n",
       "    </tr>\n",
       "    <tr>\n",
       "      <th>7</th>\n",
       "      <td>1.389090e+13</td>\n",
       "      <td>2.883507</td>\n",
       "      <td>0.252181</td>\n",
       "    </tr>\n",
       "    <tr>\n",
       "      <th>8</th>\n",
       "      <td>4.214545e+13</td>\n",
       "      <td>1.484636</td>\n",
       "      <td>0.000000</td>\n",
       "    </tr>\n",
       "    <tr>\n",
       "      <th>9</th>\n",
       "      <td>9.444700e+13</td>\n",
       "      <td>0.307927</td>\n",
       "      <td>0.000000</td>\n",
       "    </tr>\n",
       "    <tr>\n",
       "      <th>10</th>\n",
       "      <td>1.506126e+14</td>\n",
       "      <td>0.522767</td>\n",
       "      <td>0.000000</td>\n",
       "    </tr>\n",
       "    <tr>\n",
       "      <th>11</th>\n",
       "      <td>1.529966e+14</td>\n",
       "      <td>1.008359</td>\n",
       "      <td>0.695109</td>\n",
       "    </tr>\n",
       "    <tr>\n",
       "      <th>12</th>\n",
       "      <td>5.555407e+13</td>\n",
       "      <td>1.204671</td>\n",
       "      <td>0.699207</td>\n",
       "    </tr>\n",
       "    <tr>\n",
       "      <th>13</th>\n",
       "      <td>8.906438e+13</td>\n",
       "      <td>1.184272</td>\n",
       "      <td>0.569071</td>\n",
       "    </tr>\n",
       "    <tr>\n",
       "      <th>14</th>\n",
       "      <td>1.410390e+14</td>\n",
       "      <td>1.017272</td>\n",
       "      <td>0.279483</td>\n",
       "    </tr>\n",
       "    <tr>\n",
       "      <th>15</th>\n",
       "      <td>3.548299e+13</td>\n",
       "      <td>0.762994</td>\n",
       "      <td>0.049220</td>\n",
       "    </tr>\n",
       "    <tr>\n",
       "      <th>16</th>\n",
       "      <td>1.161402e+14</td>\n",
       "      <td>0.467578</td>\n",
       "      <td>0.048731</td>\n",
       "    </tr>\n",
       "    <tr>\n",
       "      <th>17</th>\n",
       "      <td>1.655347e+14</td>\n",
       "      <td>0.164544</td>\n",
       "      <td>0.132960</td>\n",
       "    </tr>\n",
       "    <tr>\n",
       "      <th>18</th>\n",
       "      <td>1.070540e+14</td>\n",
       "      <td>0.123363</td>\n",
       "      <td>0.007098</td>\n",
       "    </tr>\n",
       "    <tr>\n",
       "      <th>19</th>\n",
       "      <td>3.621188e+13</td>\n",
       "      <td>0.381973</td>\n",
       "      <td>0.000000</td>\n",
       "    </tr>\n",
       "    <tr>\n",
       "      <th>20</th>\n",
       "      <td>5.197892e+12</td>\n",
       "      <td>0.603591</td>\n",
       "      <td>0.000000</td>\n",
       "    </tr>\n",
       "  </tbody>\n",
       "</table>\n",
       "</div>"
      ],
      "text/plain": [
       "    linear regression  ridge regression  lasso regression\n",
       "0        3.783472e+12          0.000000          0.000000\n",
       "1        1.619371e+07          6.065176          8.490500\n",
       "2        4.660425e+08         12.429635         20.176708\n",
       "3        7.679855e+09          4.070127          1.641353\n",
       "4        8.271033e+10          2.307194          5.698488\n",
       "5        6.233828e+11          4.432550          4.601939\n",
       "6        3.416390e+12          4.135200          2.170905\n",
       "7        1.389090e+13          2.883507          0.252181\n",
       "8        4.214545e+13          1.484636          0.000000\n",
       "9        9.444700e+13          0.307927          0.000000\n",
       "10       1.506126e+14          0.522767          0.000000\n",
       "11       1.529966e+14          1.008359          0.695109\n",
       "12       5.555407e+13          1.204671          0.699207\n",
       "13       8.906438e+13          1.184272          0.569071\n",
       "14       1.410390e+14          1.017272          0.279483\n",
       "15       3.548299e+13          0.762994          0.049220\n",
       "16       1.161402e+14          0.467578          0.048731\n",
       "17       1.655347e+14          0.164544          0.132960\n",
       "18       1.070540e+14          0.123363          0.007098\n",
       "19       3.621188e+13          0.381973          0.000000\n",
       "20       5.197892e+12          0.603591          0.000000"
      ]
     },
     "execution_count": 59,
     "metadata": {},
     "output_type": "execute_result"
    }
   ],
   "source": [
    "# Look at the absolute value of coefficients for each model \n",
    "coefficients = pd.DataFrame() \n",
    "coefficients['linear regression'] = lr.coef_.ravel()\n",
    "coefficients['ridge regression'] = rr.coef_.ravel()\n",
    "coefficients['lasso regression'] = lassor.coef_.ravel()\n",
    "coefficients = coefficients.applymap(abs) # applys absolute value element-wise \n",
    "\n",
    "coefficients"
   ]
  },
  {
   "cell_type": "code",
   "execution_count": 58,
   "metadata": {},
   "outputs": [
    {
     "data": {
      "text/html": [
       "<div>\n",
       "<style>\n",
       "    .dataframe thead tr:only-child th {\n",
       "        text-align: right;\n",
       "    }\n",
       "\n",
       "    .dataframe thead th {\n",
       "        text-align: left;\n",
       "    }\n",
       "\n",
       "    .dataframe tbody tr th {\n",
       "        vertical-align: top;\n",
       "    }\n",
       "</style>\n",
       "<table border=\"1\" class=\"dataframe\">\n",
       "  <thead>\n",
       "    <tr style=\"text-align: right;\">\n",
       "      <th></th>\n",
       "      <th>linear regression</th>\n",
       "      <th>ridge regression</th>\n",
       "      <th>lasso regression</th>\n",
       "    </tr>\n",
       "  </thead>\n",
       "  <tbody>\n",
       "    <tr>\n",
       "      <th>count</th>\n",
       "      <td>2.100000e+01</td>\n",
       "      <td>21.000000</td>\n",
       "      <td>21.000000</td>\n",
       "    </tr>\n",
       "    <tr>\n",
       "      <th>mean</th>\n",
       "      <td>5.777551e+13</td>\n",
       "      <td>2.169397</td>\n",
       "      <td>2.167284</td>\n",
       "    </tr>\n",
       "    <tr>\n",
       "      <th>std</th>\n",
       "      <td>6.031941e+13</td>\n",
       "      <td>2.900278</td>\n",
       "      <td>4.706731</td>\n",
       "    </tr>\n",
       "    <tr>\n",
       "      <th>min</th>\n",
       "      <td>1.619371e+07</td>\n",
       "      <td>0.000000</td>\n",
       "      <td>0.000000</td>\n",
       "    </tr>\n",
       "    <tr>\n",
       "      <th>25%</th>\n",
       "      <td>3.416390e+12</td>\n",
       "      <td>0.467578</td>\n",
       "      <td>0.000000</td>\n",
       "    </tr>\n",
       "    <tr>\n",
       "      <th>50%</th>\n",
       "      <td>3.621188e+13</td>\n",
       "      <td>1.017272</td>\n",
       "      <td>0.252181</td>\n",
       "    </tr>\n",
       "    <tr>\n",
       "      <th>75%</th>\n",
       "      <td>1.070540e+14</td>\n",
       "      <td>2.883507</td>\n",
       "      <td>1.641353</td>\n",
       "    </tr>\n",
       "    <tr>\n",
       "      <th>max</th>\n",
       "      <td>1.655347e+14</td>\n",
       "      <td>12.429635</td>\n",
       "      <td>20.176708</td>\n",
       "    </tr>\n",
       "  </tbody>\n",
       "</table>\n",
       "</div>"
      ],
      "text/plain": [
       "       linear regression  ridge regression  lasso regression\n",
       "count       2.100000e+01         21.000000         21.000000\n",
       "mean        5.777551e+13          2.169397          2.167284\n",
       "std         6.031941e+13          2.900278          4.706731\n",
       "min         1.619371e+07          0.000000          0.000000\n",
       "25%         3.416390e+12          0.467578          0.000000\n",
       "50%         3.621188e+13          1.017272          0.252181\n",
       "75%         1.070540e+14          2.883507          1.641353\n",
       "max         1.655347e+14         12.429635         20.176708"
      ]
     },
     "execution_count": 58,
     "metadata": {},
     "output_type": "execute_result"
    }
   ],
   "source": [
    "# Note large difference in scale between non-regularized vs. regularized regression\n",
    "coefficients.describe()"
   ]
  },
  {
   "cell_type": "code",
   "execution_count": 86,
   "metadata": {},
   "outputs": [
    {
     "data": {
      "image/png": "[encoded data removed]",
      "text/plain": [
       "<matplotlib.figure.Figure at 0x2745bcd5198>"
      ]
     },
     "metadata": {},
     "output_type": "display_data"
    }
   ],
   "source": [
    "colors = sns.color_palette() \n",
    "\n",
    "# Plot the predicted values (regularized and non-regularized)\n",
    "# Set up the dual y-axes \n",
    "ax1 = plt.axes()\n",
    "ax2 = ax1.twinx()\n",
    "\n",
    "# Plot the linear regression data \n",
    "ax1.plot(lr.coef_.ravel(), \n",
    "         color = colors[0], marker = 'o', label = 'linear regression');\n",
    "\n",
    "# Plot the regularization data \n",
    "ax2.plot(rr.coef_.ravel(), \n",
    "         color = colors[1], marker = 'o', label = 'ridge regression');\n",
    "ax2.plot(lassor.coef_.ravel(), \n",
    "         color = colors[2], marker = 'o', label = 'lasso regression');\n",
    "\n",
    "# Customize axes scales \n",
    "ax1.set_ylim(-2e14, 2e14)\n",
    "ax2.set_ylim(-25,25)\n",
    "\n",
    "# Combine the legends \n",
    "h1, l1 = ax1.get_legend_handles_labels()\n",
    "h2, l2 = ax2.get_legend_handles_labels()\n",
    "ax1.legend(h1+h2, l1+l2);\n",
    "\n",
    "ax1.set(xlabel = 'coefficients', ylabel = 'linear regression');\n",
    "ax2.set(ylabel = 'ridge and lasso regression');\n",
    "\n",
    "ax1.set_xticks(range(len(lr.coef_))); "
   ]
  },
  {
   "cell_type": "code",
   "execution_count": 85,
   "metadata": {},
   "outputs": [
    {
     "name": "stdout",
     "output_type": "stream",
     "text": [
      "['linear regression']\n",
      "['ridge regression', 'lasso regression']\n"
     ]
    }
   ],
   "source": [
    "print(l1)\n",
    "print(l2)"
   ]
  },
  {
   "cell_type": "markdown",
   "metadata": {},
   "source": [
    "### Question 4\n",
    "Work with housing prices in Ames, Iowa dataset"
   ]
  },
  {
   "cell_type": "markdown",
   "metadata": {},
   "source": [
    "* Import the data with pandas, remove null values, and one-hot encode categoricals "
   ]
  },
  {
   "cell_type": "code",
   "execution_count": 177,
   "metadata": {
    "collapsed": true
   },
   "outputs": [],
   "source": [
    "data_path = ['C:/Users/japor/Desktop/Machine Learning 501 Nervana/Intel-ML101-Class4/data']\n",
    "filepath = os.sep.join(data_path + ['Ames_Housing_Sales.csv'])\n",
    "data = pd.read_csv(filepath, sep = ',')"
   ]
  },
  {
   "cell_type": "markdown",
   "metadata": {},
   "source": [
    "Create a list of categorical data and one-hot encode. Pandas one-hot encoder (`get_dummies`) works well with data that is defined as a categorical "
   ]
  },
  {
   "cell_type": "code",
   "execution_count": 197,
   "metadata": {},
   "outputs": [
    {
     "data": {
      "text/plain": [
       "Series([], dtype: object)"
      ]
     },
     "execution_count": 197,
     "metadata": {},
     "output_type": "execute_result"
    }
   ],
   "source": [
    "# get a pd.series consisting of all the string categoricals\n",
    "one_hot_encode_cols = data.dtypes[data.dtypes == np.object] \n",
    "one_hot_encode_cols = one_hot_encode_cols.index.tolist() # list of categorical fields\n",
    "\n",
    "# another way of one-hot-encoding: \n",
    "# encode these columns as categoricals so one hot encoding works on split data \n",
    "for col in one_hot_encode_cols: \n",
    "    data[col] = pd.Categorical(data[col])\n",
    "    \n"
   ]
  },
  {
   "cell_type": "code",
   "execution_count": 199,
   "metadata": {},
   "outputs": [
    {
     "data": {
      "text/html": [
       "<div>\n",
       "<style>\n",
       "    .dataframe thead tr:only-child th {\n",
       "        text-align: right;\n",
       "    }\n",
       "\n",
       "    .dataframe thead th {\n",
       "        text-align: left;\n",
       "    }\n",
       "\n",
       "    .dataframe tbody tr th {\n",
       "        vertical-align: top;\n",
       "    }\n",
       "</style>\n",
       "<table border=\"1\" class=\"dataframe\">\n",
       "  <thead>\n",
       "    <tr style=\"text-align: right;\">\n",
       "      <th></th>\n",
       "      <th>1stFlrSF</th>\n",
       "      <th>2ndFlrSF</th>\n",
       "      <th>3SsnPorch</th>\n",
       "      <th>BedroomAbvGr</th>\n",
       "      <th>BsmtFinSF1</th>\n",
       "      <th>BsmtFinSF2</th>\n",
       "      <th>BsmtFullBath</th>\n",
       "      <th>BsmtHalfBath</th>\n",
       "      <th>BsmtUnfSF</th>\n",
       "      <th>EnclosedPorch</th>\n",
       "      <th>...</th>\n",
       "      <th>SaleType_ConLD</th>\n",
       "      <th>SaleType_ConLI</th>\n",
       "      <th>SaleType_ConLw</th>\n",
       "      <th>SaleType_New</th>\n",
       "      <th>SaleType_Oth</th>\n",
       "      <th>SaleType_WD</th>\n",
       "      <th>Street_Grvl</th>\n",
       "      <th>Street_Pave</th>\n",
       "      <th>Utilities_AllPub</th>\n",
       "      <th>Utilities_NoSeWa</th>\n",
       "    </tr>\n",
       "  </thead>\n",
       "  <tbody>\n",
       "    <tr>\n",
       "      <th>0</th>\n",
       "      <td>856.0</td>\n",
       "      <td>854.0</td>\n",
       "      <td>0.0</td>\n",
       "      <td>3</td>\n",
       "      <td>706.0</td>\n",
       "      <td>0.0</td>\n",
       "      <td>1</td>\n",
       "      <td>0</td>\n",
       "      <td>150.0</td>\n",
       "      <td>0.0</td>\n",
       "      <td>...</td>\n",
       "      <td>0</td>\n",
       "      <td>0</td>\n",
       "      <td>0</td>\n",
       "      <td>0</td>\n",
       "      <td>0</td>\n",
       "      <td>1</td>\n",
       "      <td>0</td>\n",
       "      <td>1</td>\n",
       "      <td>1</td>\n",
       "      <td>0</td>\n",
       "    </tr>\n",
       "    <tr>\n",
       "      <th>1</th>\n",
       "      <td>1262.0</td>\n",
       "      <td>0.0</td>\n",
       "      <td>0.0</td>\n",
       "      <td>3</td>\n",
       "      <td>978.0</td>\n",
       "      <td>0.0</td>\n",
       "      <td>0</td>\n",
       "      <td>1</td>\n",
       "      <td>284.0</td>\n",
       "      <td>0.0</td>\n",
       "      <td>...</td>\n",
       "      <td>0</td>\n",
       "      <td>0</td>\n",
       "      <td>0</td>\n",
       "      <td>0</td>\n",
       "      <td>0</td>\n",
       "      <td>1</td>\n",
       "      <td>0</td>\n",
       "      <td>1</td>\n",
       "      <td>1</td>\n",
       "      <td>0</td>\n",
       "    </tr>\n",
       "    <tr>\n",
       "      <th>2</th>\n",
       "      <td>920.0</td>\n",
       "      <td>866.0</td>\n",
       "      <td>0.0</td>\n",
       "      <td>3</td>\n",
       "      <td>486.0</td>\n",
       "      <td>0.0</td>\n",
       "      <td>1</td>\n",
       "      <td>0</td>\n",
       "      <td>434.0</td>\n",
       "      <td>0.0</td>\n",
       "      <td>...</td>\n",
       "      <td>0</td>\n",
       "      <td>0</td>\n",
       "      <td>0</td>\n",
       "      <td>0</td>\n",
       "      <td>0</td>\n",
       "      <td>1</td>\n",
       "      <td>0</td>\n",
       "      <td>1</td>\n",
       "      <td>1</td>\n",
       "      <td>0</td>\n",
       "    </tr>\n",
       "    <tr>\n",
       "      <th>3</th>\n",
       "      <td>961.0</td>\n",
       "      <td>756.0</td>\n",
       "      <td>0.0</td>\n",
       "      <td>3</td>\n",
       "      <td>216.0</td>\n",
       "      <td>0.0</td>\n",
       "      <td>1</td>\n",
       "      <td>0</td>\n",
       "      <td>540.0</td>\n",
       "      <td>272.0</td>\n",
       "      <td>...</td>\n",
       "      <td>0</td>\n",
       "      <td>0</td>\n",
       "      <td>0</td>\n",
       "      <td>0</td>\n",
       "      <td>0</td>\n",
       "      <td>1</td>\n",
       "      <td>0</td>\n",
       "      <td>1</td>\n",
       "      <td>1</td>\n",
       "      <td>0</td>\n",
       "    </tr>\n",
       "    <tr>\n",
       "      <th>4</th>\n",
       "      <td>1145.0</td>\n",
       "      <td>1053.0</td>\n",
       "      <td>0.0</td>\n",
       "      <td>4</td>\n",
       "      <td>655.0</td>\n",
       "      <td>0.0</td>\n",
       "      <td>1</td>\n",
       "      <td>0</td>\n",
       "      <td>490.0</td>\n",
       "      <td>0.0</td>\n",
       "      <td>...</td>\n",
       "      <td>0</td>\n",
       "      <td>0</td>\n",
       "      <td>0</td>\n",
       "      <td>0</td>\n",
       "      <td>0</td>\n",
       "      <td>1</td>\n",
       "      <td>0</td>\n",
       "      <td>1</td>\n",
       "      <td>1</td>\n",
       "      <td>0</td>\n",
       "    </tr>\n",
       "  </tbody>\n",
       "</table>\n",
       "<p>5 rows × 295 columns</p>\n",
       "</div>"
      ],
      "text/plain": [
       "   1stFlrSF  2ndFlrSF  3SsnPorch  BedroomAbvGr  BsmtFinSF1  BsmtFinSF2  \\\n",
       "0     856.0     854.0        0.0             3       706.0         0.0   \n",
       "1    1262.0       0.0        0.0             3       978.0         0.0   \n",
       "2     920.0     866.0        0.0             3       486.0         0.0   \n",
       "3     961.0     756.0        0.0             3       216.0         0.0   \n",
       "4    1145.0    1053.0        0.0             4       655.0         0.0   \n",
       "\n",
       "   BsmtFullBath  BsmtHalfBath  BsmtUnfSF  EnclosedPorch        ...         \\\n",
       "0             1             0      150.0            0.0        ...          \n",
       "1             0             1      284.0            0.0        ...          \n",
       "2             1             0      434.0            0.0        ...          \n",
       "3             1             0      540.0          272.0        ...          \n",
       "4             1             0      490.0            0.0        ...          \n",
       "\n",
       "   SaleType_ConLD  SaleType_ConLI  SaleType_ConLw  SaleType_New  SaleType_Oth  \\\n",
       "0               0               0               0             0             0   \n",
       "1               0               0               0             0             0   \n",
       "2               0               0               0             0             0   \n",
       "3               0               0               0             0             0   \n",
       "4               0               0               0             0             0   \n",
       "\n",
       "   SaleType_WD  Street_Grvl  Street_Pave  Utilities_AllPub  Utilities_NoSeWa  \n",
       "0            1            0            1                 1                 0  \n",
       "1            1            0            1                 1                 0  \n",
       "2            1            0            1                 1                 0  \n",
       "3            1            0            1                 1                 0  \n",
       "4            1            0            1                 1                 0  \n",
       "\n",
       "[5 rows x 295 columns]"
      ]
     },
     "execution_count": 199,
     "metadata": {},
     "output_type": "execute_result"
    }
   ],
   "source": [
    "data.head()"
   ]
  },
  {
   "cell_type": "code",
   "execution_count": 201,
   "metadata": {},
   "outputs": [
    {
     "data": {
      "text/html": [
       "<div>\n",
       "<style>\n",
       "    .dataframe thead tr:only-child th {\n",
       "        text-align: right;\n",
       "    }\n",
       "\n",
       "    .dataframe thead th {\n",
       "        text-align: left;\n",
       "    }\n",
       "\n",
       "    .dataframe tbody tr th {\n",
       "        vertical-align: top;\n",
       "    }\n",
       "</style>\n",
       "<table border=\"1\" class=\"dataframe\">\n",
       "  <thead>\n",
       "    <tr style=\"text-align: right;\">\n",
       "      <th></th>\n",
       "      <th>1stFlrSF</th>\n",
       "      <th>2ndFlrSF</th>\n",
       "      <th>3SsnPorch</th>\n",
       "      <th>BedroomAbvGr</th>\n",
       "      <th>BsmtFinSF1</th>\n",
       "      <th>BsmtFinSF2</th>\n",
       "      <th>BsmtFullBath</th>\n",
       "      <th>BsmtHalfBath</th>\n",
       "      <th>BsmtUnfSF</th>\n",
       "      <th>EnclosedPorch</th>\n",
       "      <th>...</th>\n",
       "      <th>SaleType_ConLD</th>\n",
       "      <th>SaleType_ConLI</th>\n",
       "      <th>SaleType_ConLw</th>\n",
       "      <th>SaleType_New</th>\n",
       "      <th>SaleType_Oth</th>\n",
       "      <th>SaleType_WD</th>\n",
       "      <th>Street_Grvl</th>\n",
       "      <th>Street_Pave</th>\n",
       "      <th>Utilities_AllPub</th>\n",
       "      <th>Utilities_NoSeWa</th>\n",
       "    </tr>\n",
       "  </thead>\n",
       "  <tbody>\n",
       "    <tr>\n",
       "      <th>0</th>\n",
       "      <td>856.0</td>\n",
       "      <td>854.0</td>\n",
       "      <td>0.0</td>\n",
       "      <td>3</td>\n",
       "      <td>706.0</td>\n",
       "      <td>0.0</td>\n",
       "      <td>1</td>\n",
       "      <td>0</td>\n",
       "      <td>150.0</td>\n",
       "      <td>0.0</td>\n",
       "      <td>...</td>\n",
       "      <td>0</td>\n",
       "      <td>0</td>\n",
       "      <td>0</td>\n",
       "      <td>0</td>\n",
       "      <td>0</td>\n",
       "      <td>1</td>\n",
       "      <td>0</td>\n",
       "      <td>1</td>\n",
       "      <td>1</td>\n",
       "      <td>0</td>\n",
       "    </tr>\n",
       "    <tr>\n",
       "      <th>1</th>\n",
       "      <td>1262.0</td>\n",
       "      <td>0.0</td>\n",
       "      <td>0.0</td>\n",
       "      <td>3</td>\n",
       "      <td>978.0</td>\n",
       "      <td>0.0</td>\n",
       "      <td>0</td>\n",
       "      <td>1</td>\n",
       "      <td>284.0</td>\n",
       "      <td>0.0</td>\n",
       "      <td>...</td>\n",
       "      <td>0</td>\n",
       "      <td>0</td>\n",
       "      <td>0</td>\n",
       "      <td>0</td>\n",
       "      <td>0</td>\n",
       "      <td>1</td>\n",
       "      <td>0</td>\n",
       "      <td>1</td>\n",
       "      <td>1</td>\n",
       "      <td>0</td>\n",
       "    </tr>\n",
       "    <tr>\n",
       "      <th>2</th>\n",
       "      <td>920.0</td>\n",
       "      <td>866.0</td>\n",
       "      <td>0.0</td>\n",
       "      <td>3</td>\n",
       "      <td>486.0</td>\n",
       "      <td>0.0</td>\n",
       "      <td>1</td>\n",
       "      <td>0</td>\n",
       "      <td>434.0</td>\n",
       "      <td>0.0</td>\n",
       "      <td>...</td>\n",
       "      <td>0</td>\n",
       "      <td>0</td>\n",
       "      <td>0</td>\n",
       "      <td>0</td>\n",
       "      <td>0</td>\n",
       "      <td>1</td>\n",
       "      <td>0</td>\n",
       "      <td>1</td>\n",
       "      <td>1</td>\n",
       "      <td>0</td>\n",
       "    </tr>\n",
       "    <tr>\n",
       "      <th>3</th>\n",
       "      <td>961.0</td>\n",
       "      <td>756.0</td>\n",
       "      <td>0.0</td>\n",
       "      <td>3</td>\n",
       "      <td>216.0</td>\n",
       "      <td>0.0</td>\n",
       "      <td>1</td>\n",
       "      <td>0</td>\n",
       "      <td>540.0</td>\n",
       "      <td>272.0</td>\n",
       "      <td>...</td>\n",
       "      <td>0</td>\n",
       "      <td>0</td>\n",
       "      <td>0</td>\n",
       "      <td>0</td>\n",
       "      <td>0</td>\n",
       "      <td>1</td>\n",
       "      <td>0</td>\n",
       "      <td>1</td>\n",
       "      <td>1</td>\n",
       "      <td>0</td>\n",
       "    </tr>\n",
       "    <tr>\n",
       "      <th>4</th>\n",
       "      <td>1145.0</td>\n",
       "      <td>1053.0</td>\n",
       "      <td>0.0</td>\n",
       "      <td>4</td>\n",
       "      <td>655.0</td>\n",
       "      <td>0.0</td>\n",
       "      <td>1</td>\n",
       "      <td>0</td>\n",
       "      <td>490.0</td>\n",
       "      <td>0.0</td>\n",
       "      <td>...</td>\n",
       "      <td>0</td>\n",
       "      <td>0</td>\n",
       "      <td>0</td>\n",
       "      <td>0</td>\n",
       "      <td>0</td>\n",
       "      <td>1</td>\n",
       "      <td>0</td>\n",
       "      <td>1</td>\n",
       "      <td>1</td>\n",
       "      <td>0</td>\n",
       "    </tr>\n",
       "  </tbody>\n",
       "</table>\n",
       "<p>5 rows × 295 columns</p>\n",
       "</div>"
      ],
      "text/plain": [
       "   1stFlrSF  2ndFlrSF  3SsnPorch  BedroomAbvGr  BsmtFinSF1  BsmtFinSF2  \\\n",
       "0     856.0     854.0        0.0             3       706.0         0.0   \n",
       "1    1262.0       0.0        0.0             3       978.0         0.0   \n",
       "2     920.0     866.0        0.0             3       486.0         0.0   \n",
       "3     961.0     756.0        0.0             3       216.0         0.0   \n",
       "4    1145.0    1053.0        0.0             4       655.0         0.0   \n",
       "\n",
       "   BsmtFullBath  BsmtHalfBath  BsmtUnfSF  EnclosedPorch        ...         \\\n",
       "0             1             0      150.0            0.0        ...          \n",
       "1             0             1      284.0            0.0        ...          \n",
       "2             1             0      434.0            0.0        ...          \n",
       "3             1             0      540.0          272.0        ...          \n",
       "4             1             0      490.0            0.0        ...          \n",
       "\n",
       "   SaleType_ConLD  SaleType_ConLI  SaleType_ConLw  SaleType_New  SaleType_Oth  \\\n",
       "0               0               0               0             0             0   \n",
       "1               0               0               0             0             0   \n",
       "2               0               0               0             0             0   \n",
       "3               0               0               0             0             0   \n",
       "4               0               0               0             0             0   \n",
       "\n",
       "   SaleType_WD  Street_Grvl  Street_Pave  Utilities_AllPub  Utilities_NoSeWa  \n",
       "0            1            0            1                 1                 0  \n",
       "1            1            0            1                 1                 0  \n",
       "2            1            0            1                 1                 0  \n",
       "3            1            0            1                 1                 0  \n",
       "4            1            0            1                 1                 0  \n",
       "\n",
       "[5 rows x 295 columns]"
      ]
     },
     "execution_count": 201,
     "metadata": {},
     "output_type": "execute_result"
    }
   ],
   "source": [
    "# Do one hot encoding \n",
    "data = pd.get_dummies(data, columns = one_hot_encode_cols)\n",
    "data.head()"
   ]
  },
  {
   "cell_type": "markdown",
   "metadata": {},
   "source": [
    "Split the data into train and test data sets "
   ]
  },
  {
   "cell_type": "code",
   "execution_count": 202,
   "metadata": {
    "collapsed": true
   },
   "outputs": [],
   "source": [
    "from sklearn.model_selection import train_test_split\n",
    "\n",
    "train, test = train_test_split(data, test_size = 0.3, random_state = 42)"
   ]
  },
  {
   "cell_type": "markdown",
   "metadata": {},
   "source": [
    "There are columns with skewed features--a log transformation can be applied to them.  Our predictor `SalesPrice` is also skewed, but we will keep that one as is "
   ]
  },
  {
   "cell_type": "code",
   "execution_count": 203,
   "metadata": {},
   "outputs": [
    {
     "data": {
      "text/plain": [
       "Index(['1stFlrSF', '2ndFlrSF', '3SsnPorch', 'BsmtFinSF1', 'BsmtFinSF2',\n",
       "       'BsmtUnfSF', 'EnclosedPorch', 'GarageArea', 'GarageYrBlt', 'GrLivArea',\n",
       "       'LotArea', 'LotFrontage', 'LowQualFinSF', 'MasVnrArea', 'MiscVal',\n",
       "       'OpenPorchSF', 'PoolArea', 'ScreenPorch', 'TotalBsmtSF', 'WoodDeckSF',\n",
       "       'SalePrice'],\n",
       "      dtype='object')"
      ]
     },
     "execution_count": 203,
     "metadata": {},
     "output_type": "execute_result"
    }
   ],
   "source": [
    "# Create a list of float columns to check for skewing \n",
    "mask = data.dtypes == np.float \n",
    "float_cols = data.columns[mask]\n",
    "data.columns[mask]"
   ]
  },
  {
   "cell_type": "code",
   "execution_count": 204,
   "metadata": {},
   "outputs": [
    {
     "data": {
      "text/plain": [
       "1stFlrSF          1.539692\n",
       "2ndFlrSF          0.773655\n",
       "3SsnPorch        10.150612\n",
       "BsmtFinSF1        2.010766\n",
       "BsmtFinSF2        4.466378\n",
       "BsmtUnfSF         0.900308\n",
       "EnclosedPorch     3.218303\n",
       "GarageArea        0.838422\n",
       "GarageYrBlt      -0.649707\n",
       "GrLivArea         1.455564\n",
       "LotArea          11.501694\n",
       "LotFrontage       3.138032\n",
       "LowQualFinSF     11.210638\n",
       "MasVnrArea        2.492814\n",
       "MiscVal          26.915364\n",
       "OpenPorchSF       2.295489\n",
       "PoolArea         15.777668\n",
       "ScreenPorch       4.599803\n",
       "TotalBsmtSF       1.979164\n",
       "WoodDeckSF        1.334388\n",
       "SalePrice         2.106910\n",
       "dtype: float64"
      ]
     },
     "execution_count": 204,
     "metadata": {},
     "output_type": "execute_result"
    }
   ],
   "source": [
    "skew_limit = 0.75\n",
    "skew_vals = train[float_cols].skew() # .skew() measures skew of data \n",
    "\n",
    "skew_vals"
   ]
  },
  {
   "cell_type": "code",
   "execution_count": 155,
   "metadata": {},
   "outputs": [
    {
     "data": {
      "text/html": [
       "<div>\n",
       "<style>\n",
       "    .dataframe thead tr:only-child th {\n",
       "        text-align: right;\n",
       "    }\n",
       "\n",
       "    .dataframe thead th {\n",
       "        text-align: left;\n",
       "    }\n",
       "\n",
       "    .dataframe tbody tr th {\n",
       "        vertical-align: top;\n",
       "    }\n",
       "</style>\n",
       "<table border=\"1\" class=\"dataframe\">\n",
       "  <thead>\n",
       "    <tr style=\"text-align: right;\">\n",
       "      <th></th>\n",
       "      <th>Skew</th>\n",
       "    </tr>\n",
       "  </thead>\n",
       "  <tbody>\n",
       "    <tr>\n",
       "      <th>MiscVal</th>\n",
       "      <td>26.915364</td>\n",
       "    </tr>\n",
       "    <tr>\n",
       "      <th>PoolArea</th>\n",
       "      <td>15.777668</td>\n",
       "    </tr>\n",
       "    <tr>\n",
       "      <th>LotArea</th>\n",
       "      <td>11.501694</td>\n",
       "    </tr>\n",
       "    <tr>\n",
       "      <th>LowQualFinSF</th>\n",
       "      <td>11.210638</td>\n",
       "    </tr>\n",
       "    <tr>\n",
       "      <th>3SsnPorch</th>\n",
       "      <td>10.150612</td>\n",
       "    </tr>\n",
       "    <tr>\n",
       "      <th>ScreenPorch</th>\n",
       "      <td>4.599803</td>\n",
       "    </tr>\n",
       "    <tr>\n",
       "      <th>BsmtFinSF2</th>\n",
       "      <td>4.466378</td>\n",
       "    </tr>\n",
       "    <tr>\n",
       "      <th>EnclosedPorch</th>\n",
       "      <td>3.218303</td>\n",
       "    </tr>\n",
       "    <tr>\n",
       "      <th>LotFrontage</th>\n",
       "      <td>3.138032</td>\n",
       "    </tr>\n",
       "    <tr>\n",
       "      <th>MasVnrArea</th>\n",
       "      <td>2.492814</td>\n",
       "    </tr>\n",
       "    <tr>\n",
       "      <th>OpenPorchSF</th>\n",
       "      <td>2.295489</td>\n",
       "    </tr>\n",
       "    <tr>\n",
       "      <th>SalePrice</th>\n",
       "      <td>2.106910</td>\n",
       "    </tr>\n",
       "    <tr>\n",
       "      <th>BsmtFinSF1</th>\n",
       "      <td>2.010766</td>\n",
       "    </tr>\n",
       "    <tr>\n",
       "      <th>TotalBsmtSF</th>\n",
       "      <td>1.979164</td>\n",
       "    </tr>\n",
       "    <tr>\n",
       "      <th>1stFlrSF</th>\n",
       "      <td>1.539692</td>\n",
       "    </tr>\n",
       "    <tr>\n",
       "      <th>GrLivArea</th>\n",
       "      <td>1.455564</td>\n",
       "    </tr>\n",
       "    <tr>\n",
       "      <th>WoodDeckSF</th>\n",
       "      <td>1.334388</td>\n",
       "    </tr>\n",
       "    <tr>\n",
       "      <th>BsmtUnfSF</th>\n",
       "      <td>0.900308</td>\n",
       "    </tr>\n",
       "    <tr>\n",
       "      <th>GarageArea</th>\n",
       "      <td>0.838422</td>\n",
       "    </tr>\n",
       "    <tr>\n",
       "      <th>2ndFlrSF</th>\n",
       "      <td>0.773655</td>\n",
       "    </tr>\n",
       "  </tbody>\n",
       "</table>\n",
       "</div>"
      ],
      "text/plain": [
       "                    Skew\n",
       "MiscVal        26.915364\n",
       "PoolArea       15.777668\n",
       "LotArea        11.501694\n",
       "LowQualFinSF   11.210638\n",
       "3SsnPorch      10.150612\n",
       "ScreenPorch     4.599803\n",
       "BsmtFinSF2      4.466378\n",
       "EnclosedPorch   3.218303\n",
       "LotFrontage     3.138032\n",
       "MasVnrArea      2.492814\n",
       "OpenPorchSF     2.295489\n",
       "SalePrice       2.106910\n",
       "BsmtFinSF1      2.010766\n",
       "TotalBsmtSF     1.979164\n",
       "1stFlrSF        1.539692\n",
       "GrLivArea       1.455564\n",
       "WoodDeckSF      1.334388\n",
       "BsmtUnfSF       0.900308\n",
       "GarageArea      0.838422\n",
       "2ndFlrSF        0.773655"
      ]
     },
     "execution_count": 155,
     "metadata": {},
     "output_type": "execute_result"
    }
   ],
   "source": [
    "skew_cols = (skew_vals\n",
    "             .sort_values(ascending = False)\n",
    "             .to_frame() # format into dataframe \n",
    "             .rename(columns = {0: 'Skew'}) # add column \"Skew\" with skew_vals\n",
    "             .query('abs(Skew) > {0}'.format(skew_limit))) # query if abs(Skew) greater than skew limit\n",
    "             \n",
    "skew_cols # only columns with skew > 0.75"
   ]
  },
  {
   "cell_type": "code",
   "execution_count": 205,
   "metadata": {},
   "outputs": [
    {
     "data": {
      "image/png": "[encoded data removed]",
      "text/plain": [
       "<matplotlib.figure.Figure at 0x2745ddae438>"
      ]
     },
     "metadata": {},
     "output_type": "display_data"
    }
   ],
   "source": [
    "# Look at what happens to one of the features when we apply np.log1p visually \n",
    "field = 'BsmtFinSF1'\n",
    "fig, (ax_before, ax_after) = plt.subplots(1,2, figsize = (10,5))\n",
    "train[field].hist(ax = ax_before)\n",
    "train[field].apply(np.log1p).hist(ax = ax_after)\n",
    "\n",
    "ax_before.set(title = 'before np.log1p', ylabel = 'frequency', xlabel = 'xvalue')\n",
    "ax_after.set(title = 'after np.log1p', ylabel = 'frequency', xlabel = 'value')\n",
    "fig.suptitle('Field \"{}\"'.format(field)); \n",
    "# skewness is reduced a little after transformation "
   ]
  },
  {
   "cell_type": "code",
   "execution_count": 206,
   "metadata": {
    "collapsed": true
   },
   "outputs": [],
   "source": [
    "# Mute the settings with a copy warnings \n",
    "pd.options.mode.chained_assignment = None \n",
    "\n",
    "for col in skew_cols.index.tolist(): \n",
    "    if col == \"SalePrice\":\n",
    "        continue \n",
    "    train[col] = np.log1p(train[col]) # both these lines do the same thing\n",
    "    test[col] = test[col].apply(np.log1p) # both these lines do the same thing"
   ]
  },
  {
   "cell_type": "markdown",
   "metadata": {},
   "source": [
    "Separate features from predictor. "
   ]
  },
  {
   "cell_type": "code",
   "execution_count": 213,
   "metadata": {
    "collapsed": true
   },
   "outputs": [],
   "source": [
    "feature_cols = [x for x in train.columns if x != 'SalePrice']\n",
    "X_train = train[feature_cols]\n",
    "y_train = train['SalePrice']\n",
    "\n",
    "X_test = test[feature_cols]\n",
    "y_test = test['SalePrice']\n"
   ]
  },
  {
   "cell_type": "markdown",
   "metadata": {},
   "source": [
    "### Question 5 \n",
    "* Write a function `rmse` that takes in truth and prediction values and returns the root-mean-squared error. User sklearn's `mean_squared_error`. "
   ]
  },
  {
   "cell_type": "code",
   "execution_count": 218,
   "metadata": {
    "collapsed": true
   },
   "outputs": [],
   "source": [
    "from sklearn.metrics import mean_squared_error \n",
    "\n",
    "def rmse(ytrue, ypredicted): \n",
    "    return np.sqrt(mean_squared_error(ytrue, ypredicted))"
   ]
  },
  {
   "cell_type": "markdown",
   "metadata": {},
   "source": [
    "* Fit a basic linear regression model \n",
    "* Print the root-mean-squared error for this model\n",
    "* Plot the predicted vs actual sale price based on the model "
   ]
  },
  {
   "cell_type": "code",
   "execution_count": 220,
   "metadata": {},
   "outputs": [
    {
     "name": "stdout",
     "output_type": "stream",
     "text": [
      "306369.683423\n"
     ]
    }
   ],
   "source": [
    "from sklearn.linear_model import LinearRegression \n",
    "\n",
    "linearRegression = LinearRegression().fit(X_train, y_train)\n",
    "\n",
    "linearRegression_rmse = rmse(y_test, linearRegression.predict(X_test))\n",
    "\n",
    "print(linearRegression_rmse)"
   ]
  },
  {
   "cell_type": "code",
   "execution_count": 231,
   "metadata": {},
   "outputs": [
    {
     "data": {
      "image/png": "[encoded data removed]",
      "text/plain": [
       "<matplotlib.figure.Figure at 0x2745d90ee48>"
      ]
     },
     "metadata": {},
     "output_type": "display_data"
    }
   ],
   "source": [
    "f = plt.figure(figsize = (6,6))\n",
    "ax = plt.axes()\n",
    "\n",
    "ax.plot(y_test, linearRegression.predict(X_test), \n",
    "        marker = 'o', ls = '', ms = 3.0);\n",
    "\n",
    "lim = (0, y_test.max())\n",
    "\n",
    "ax.set(xlabel = 'Actual Price', \n",
    "       ylabel = 'Predicted Price', \n",
    "       xlim = lim, \n",
    "       ylim = lim,\n",
    "       title = 'Linear Regression Results');\n"
   ]
  },
  {
   "cell_type": "markdown",
   "metadata": {},
   "source": [
    "### Question 6\n",
    "Ridge regression uses L2 normalization to reduce the magnitude of the coefficients. This can be helpful in situations where there is high variance. The regularization functions in Scikit-learn each contain versions that have cross-validation built in. \n",
    "* Fit a regular (non-cross validated) Ridge model to a range of $\\alpha$ values and plot the RMSE using the cross validated cross error function you created above. \n",
    "* Use\n",
    "$$[0.005,0.05,0.1,0.3,1,3,5,10,15,30,80]$$\n",
    "as the range of alphas.\n",
    "\n",
    "Now for the `RidgeCV` method. It's not possible to get the $\\alpha$ values for the models that weren't selected, unfortunately. The resulting error values and $\\alpha$ values are very similar to those obtained above. "
   ]
  },
  {
   "cell_type": "code",
   "execution_count": 239,
   "metadata": {},
   "outputs": [
    {
     "name": "stdout",
     "output_type": "stream",
     "text": [
      "15 32169.1762057\n"
     ]
    }
   ],
   "source": [
    "from sklearn.linear_model import RidgeCV\n",
    "\n",
    "alpha = [0.005, 0.05, 0.1, 0.3, 1, 3, 5, 10, 15, 30, 80]\n",
    "\n",
    "ridgeCV = RidgeCV(alphas = alpha, \n",
    "                  cv = 4).fit(X_train, y_train) \n",
    "                  # cv = 4 using k-folds, splitting into k smaller sets \n",
    "    \n",
    "ridgeCV_rmse = rmse(y_test, ridgeCV.predict(X_test))\n",
    "\n",
    "print (ridgeCV.alpha_, ridgeCV_rmse)\n",
    "# output for the optimal alpha and rmse: 15 32169.1762057"
   ]
  },
  {
   "cell_type": "markdown",
   "metadata": {},
   "source": [
    "### Question 7 \n",
    "Much like the `RidgeCV` function, there is also a `LassoCV` function that uses an L1 regularization function and cross-validation. L1 regularization will selectively shrink some coefficients, effectively performing feature elimination. \n",
    "\n",
    "The `LassoCV` function does not allow the scoring function to be set. However, the custom error function (`rmse`) created above can be used to evaluate the error on the final model. \n",
    "\n",
    "Similarly, there is also an elastic net function with cross validation, `ElasticNetCV`, which is a combination of L2 and L1 regularization. \n",
    "* Fit a Lasso model using cross validation and determine the optimum value for $\\alpha$ and the RMSE using the function created above. Note that the magnitude of $\\alpha$ may be different from the Ridge model. \n",
    "* Repeat this with the Elastic net model. \n",
    "* Compare the results via table and/or plot. \n",
    "\n",
    "Use the following $\\alpha$: \n",
    "$$[1e-5, 5e-5, 0.0001, 0.0005]$$"
   ]
  },
  {
   "cell_type": "code",
   "execution_count": 240,
   "metadata": {},
   "outputs": [
    {
     "name": "stdout",
     "output_type": "stream",
     "text": [
      "0.0005 39257.3939914\n"
     ]
    }
   ],
   "source": [
    "from sklearn.linear_model import LassoCV\n",
    "\n",
    "alphas2 = np.array([1e-5, 5e-5, 0.0001, 0.0005])\n",
    "\n",
    "lassoCV = LassoCV(alphas = alphas2, \n",
    "                  max_iter = 5e4, \n",
    "                  cv = 3).fit(X_train, y_train)\n",
    "\n",
    "lassoCV_rmse = rmse(y_test, lassoCV.predict(X_test))\n",
    "\n",
    "print(lassoCV.alpha_, lassoCV_rmse) # lasso is slower \n",
    "# output for the optimal alpha and rmse: 0.0005 39257.3939914"
   ]
  },
  {
   "cell_type": "markdown",
   "metadata": {},
   "source": [
    "We can determine how many of these features remain non-zero "
   ]
  },
  {
   "cell_type": "code",
   "execution_count": 243,
   "metadata": {},
   "outputs": [
    {
     "name": "stdout",
     "output_type": "stream",
     "text": [
      "Of 294 coefficients, 272 are non-zero with Lasso.\n"
     ]
    }
   ],
   "source": [
    "print ('Of {} coefficients, {} are non-zero with Lasso.'.format(len(lassoCV.coef_), \n",
    "                                                                len(lassoCV.coef_.nonzero()[0])))"
   ]
  },
  {
   "cell_type": "markdown",
   "metadata": {},
   "source": [
    "Now try the elastic net, with the same $\\alpha$ as in Lasso, and L1_ratios between 0.1 and 0.9"
   ]
  },
  {
   "cell_type": "code",
   "execution_count": 258,
   "metadata": {},
   "outputs": [
    {
     "name": "stdout",
     "output_type": "stream",
     "text": [
      "0.0005 0.1 35001.2342961\n"
     ]
    }
   ],
   "source": [
    "from sklearn.linear_model import ElasticNetCV\n",
    "\n",
    "l1_ratios = np.linspace(0.1, 0.9, 9)\n",
    "\n",
    "elasticNetCV = ElasticNetCV(alphas = alphas2, \n",
    "                            l1_ratio = l1_ratios, \n",
    "                            max_iter = 1e4).fit(X_train, y_train)\n",
    "\n",
    "elasticNetCV_rmse = rmse(y_test, elasticNetCV.predict(X_test))\n",
    "\n",
    "print(elasticNetCV.alpha_, elasticNetCV.l1_ratio_, elasticNetCV_rmse)\n",
    "# output for optimal alpha, l1_ratio, and rmse: 0.0005 0.1 35001.2342961"
   ]
  },
  {
   "cell_type": "code",
   "execution_count": 260,
   "metadata": {},
   "outputs": [
    {
     "data": {
      "text/html": [
       "<div>\n",
       "<style>\n",
       "    .dataframe thead tr:only-child th {\n",
       "        text-align: right;\n",
       "    }\n",
       "\n",
       "    .dataframe thead th {\n",
       "        text-align: left;\n",
       "    }\n",
       "\n",
       "    .dataframe tbody tr th {\n",
       "        vertical-align: top;\n",
       "    }\n",
       "</style>\n",
       "<table border=\"1\" class=\"dataframe\">\n",
       "  <thead>\n",
       "    <tr style=\"text-align: right;\">\n",
       "      <th></th>\n",
       "      <th>RMSE</th>\n",
       "    </tr>\n",
       "  </thead>\n",
       "  <tbody>\n",
       "    <tr>\n",
       "      <th>Linear</th>\n",
       "      <td>306369.683423</td>\n",
       "    </tr>\n",
       "    <tr>\n",
       "      <th>Ridge</th>\n",
       "      <td>32169.176206</td>\n",
       "    </tr>\n",
       "    <tr>\n",
       "      <th>Lasso</th>\n",
       "      <td>39257.393991</td>\n",
       "    </tr>\n",
       "    <tr>\n",
       "      <th>ElasticNet</th>\n",
       "      <td>35001.234296</td>\n",
       "    </tr>\n",
       "  </tbody>\n",
       "</table>\n",
       "</div>"
      ],
      "text/plain": [
       "                     RMSE\n",
       "Linear      306369.683423\n",
       "Ridge        32169.176206\n",
       "Lasso        39257.393991\n",
       "ElasticNet   35001.234296"
      ]
     },
     "execution_count": 260,
     "metadata": {},
     "output_type": "execute_result"
    }
   ],
   "source": [
    "# RMSE calculations from all models \n",
    "rmse_vals = [linearRegression_rmse, ridgeCV_rmse, lassoCV_rmse, elasticNetCV_rmse]\n",
    "\n",
    "labels = ['Linear','Ridge','Lasso','ElasticNet']\n",
    "\n",
    "rmse_df = pd.Series(rmse_vals, index = labels).to_frame()\n",
    "rmse_df.rename(columns = {0: 'RMSE'}, inplace = 1)\n",
    "rmse_df"
   ]
  },
  {
   "cell_type": "code",
   "execution_count": 261,
   "metadata": {},
   "outputs": [
    {
     "data": {
      "image/png": "[encoded data removed]",
      "text/plain": [
       "<matplotlib.figure.Figure at 0x2745d97b358>"
      ]
     },
     "metadata": {},
     "output_type": "display_data"
    }
   ],
   "source": [
    "# Plot of actual vs. predicted housing prices\n",
    "f = plt.figure(figsize = (6,6))\n",
    "ax = plt.axes()\n",
    "\n",
    "labels = ['Ridge','Lasso','ElasticNet']\n",
    "\n",
    "models = [ridgeCV, lassoCV, elasticNetCV]\n",
    "\n",
    "for mod, lab in zip(models, labels):\n",
    "    ax.plot(y_test, mod.predict(X_test), \n",
    "            marker = 'o', ls = '', ms = 3.0, label = lab)\n",
    "    \n",
    "leg = plt.legend(frameon = True)\n",
    "leg.get_frame().set_edgecolor('black')\n",
    "leg.get_frame().set_linewidth(1.0)\n",
    "\n",
    "ax.set(xlabel = 'Actual Price', \n",
    "       ylabel = 'Predicted Price', \n",
    "       title = 'Linear Regression Results');"
   ]
  },
  {
   "cell_type": "markdown",
   "metadata": {},
   "source": [
    "### Question 8 \n",
    "Let's explore Stochastic Gradient Descent in this exercise.\n",
    "Recall that Linear models in general are sensitive to scaling. However, SGD is *very* sensitive to scaling. Morever, a high learning rate value can cause the algorithm to diverge, whereas a too low value may take too long to converge. \n",
    "* Fit a stochastic gradient descent model without a regularization penalty (the relevant parameter is `penalty`). \n",
    "* Now fit stochastic gradient descent models with each of the three penalties (L2, L1, Elastic Net) using the parameter values determined by cross validation above\n",
    "* Do not scale the data before fitting the model\n",
    "* Compare the results to those obtained without using stochastic gradient descent "
   ]
  },
  {
   "cell_type": "code",
   "execution_count": 282,
   "metadata": {},
   "outputs": [
    {
     "data": {
      "text/html": [
       "<div>\n",
       "<style>\n",
       "    .dataframe thead tr:only-child th {\n",
       "        text-align: right;\n",
       "    }\n",
       "\n",
       "    .dataframe thead th {\n",
       "        text-align: left;\n",
       "    }\n",
       "\n",
       "    .dataframe tbody tr th {\n",
       "        vertical-align: top;\n",
       "    }\n",
       "</style>\n",
       "<table border=\"1\" class=\"dataframe\">\n",
       "  <thead>\n",
       "    <tr style=\"text-align: right;\">\n",
       "      <th></th>\n",
       "      <th>RMSE</th>\n",
       "      <th>RMSE-SGD</th>\n",
       "    </tr>\n",
       "  </thead>\n",
       "  <tbody>\n",
       "    <tr>\n",
       "      <th>Linear</th>\n",
       "      <td>306369.683423</td>\n",
       "      <td>7.351898e+15</td>\n",
       "    </tr>\n",
       "    <tr>\n",
       "      <th>Ridge</th>\n",
       "      <td>32169.176206</td>\n",
       "      <td>2.836937e+15</td>\n",
       "    </tr>\n",
       "    <tr>\n",
       "      <th>Lasso</th>\n",
       "      <td>39257.393991</td>\n",
       "      <td>6.720309e+15</td>\n",
       "    </tr>\n",
       "    <tr>\n",
       "      <th>ElasticNet</th>\n",
       "      <td>35001.234296</td>\n",
       "      <td>8.221934e+15</td>\n",
       "    </tr>\n",
       "  </tbody>\n",
       "</table>\n",
       "</div>"
      ],
      "text/plain": [
       "                     RMSE      RMSE-SGD\n",
       "Linear      306369.683423  7.351898e+15\n",
       "Ridge        32169.176206  2.836937e+15\n",
       "Lasso        39257.393991  6.720309e+15\n",
       "ElasticNet   35001.234296  8.221934e+15"
      ]
     },
     "execution_count": 282,
     "metadata": {},
     "output_type": "execute_result"
    }
   ],
   "source": [
    "# Import SGDRegressor and prepare the parameters \n",
    "\n",
    "from sklearn.linear_model import SGDRegressor\n",
    "\n",
    "model_parameters_dict = {\n",
    "    'Linear': {'penalty': 'none'}, \n",
    "    'Lasso': {'penalty': 'l2',  # L2 penalty\n",
    "              'alpha': lassoCV.alpha_}, \n",
    "    'Ridge': {'penalty': 'l1', # L1 penalty\n",
    "              'alpha': ridgeCV_rmse}, \n",
    "    'ElasticNet': {'penalty': 'elasticnet', \n",
    "                   'alpha': elasticNetCV.alpha_, \n",
    "                   'l1_ratio': elasticNetCV.l1_ratio_}\n",
    "}\n",
    "\n",
    "new_rmses = {}\n",
    "for modellabel, parameters in model_parameters_dict.items(): \n",
    "    SGD = SGDRegressor(**parameters) # passes dict items as arguments \n",
    "    SGD.fit(X_train, y_train)\n",
    "    new_rmses[modellabel] = rmse(y_test, SGD.predict(X_test))\n",
    "    \n",
    "rmse_df['RMSE-SGD'] = pd.Series(new_rmses)\n",
    "rmse_df"
   ]
  },
  {
   "cell_type": "markdown",
   "metadata": {},
   "source": [
    "Errors are high because algorithm is diverging. This can be due to scaling and/or learning rate being too high. Let's adjust the learning rate and see what happens. \n",
    "* Pass in `eta0 = 1e-07` when creating the instance of `SGDClassifier`. \n",
    "* Re-compute the errors for all the penalties and compare"
   ]
  },
  {
   "cell_type": "code",
   "execution_count": 285,
   "metadata": {},
   "outputs": [
    {
     "data": {
      "text/html": [
       "<div>\n",
       "<style>\n",
       "    .dataframe thead tr:only-child th {\n",
       "        text-align: right;\n",
       "    }\n",
       "\n",
       "    .dataframe thead th {\n",
       "        text-align: left;\n",
       "    }\n",
       "\n",
       "    .dataframe tbody tr th {\n",
       "        vertical-align: top;\n",
       "    }\n",
       "</style>\n",
       "<table border=\"1\" class=\"dataframe\">\n",
       "  <thead>\n",
       "    <tr style=\"text-align: right;\">\n",
       "      <th></th>\n",
       "      <th>RMSE</th>\n",
       "      <th>RMSE-SGD</th>\n",
       "      <th>RMSE-SGD-learningrate</th>\n",
       "    </tr>\n",
       "  </thead>\n",
       "  <tbody>\n",
       "    <tr>\n",
       "      <th>Linear</th>\n",
       "      <td>306369.683423</td>\n",
       "      <td>7.351898e+15</td>\n",
       "      <td>77094.416791</td>\n",
       "    </tr>\n",
       "    <tr>\n",
       "      <th>Ridge</th>\n",
       "      <td>32169.176206</td>\n",
       "      <td>2.836937e+15</td>\n",
       "      <td>75932.791131</td>\n",
       "    </tr>\n",
       "    <tr>\n",
       "      <th>Lasso</th>\n",
       "      <td>39257.393991</td>\n",
       "      <td>6.720309e+15</td>\n",
       "      <td>78696.954293</td>\n",
       "    </tr>\n",
       "    <tr>\n",
       "      <th>ElasticNet</th>\n",
       "      <td>35001.234296</td>\n",
       "      <td>8.221934e+15</td>\n",
       "      <td>79258.109420</td>\n",
       "    </tr>\n",
       "  </tbody>\n",
       "</table>\n",
       "</div>"
      ],
      "text/plain": [
       "                     RMSE      RMSE-SGD  RMSE-SGD-learningrate\n",
       "Linear      306369.683423  7.351898e+15           77094.416791\n",
       "Ridge        32169.176206  2.836937e+15           75932.791131\n",
       "Lasso        39257.393991  6.720309e+15           78696.954293\n",
       "ElasticNet   35001.234296  8.221934e+15           79258.109420"
      ]
     },
     "execution_count": 285,
     "metadata": {},
     "output_type": "execute_result"
    }
   ],
   "source": [
    "# pass in eta0 = 1e-07 as learning rate \n",
    "\n",
    "new_rmses = {}\n",
    "for modellabel, parameters in model_parameters_dict.items():\n",
    "    SGD = SGDRegressor(eta0 = 1e-7, ** parameters) # passes the dict items as args\n",
    "    SGD.fit(X_train, y_train)\n",
    "    new_rmses[modellabel] = rmse(y_test, SGD.predict(X_test))\n",
    "    \n",
    "rmse_df['RMSE-SGD-learningrate'] = pd.Series(new_rmses) \n",
    "rmse_df"
   ]
  },
  {
   "cell_type": "markdown",
   "metadata": {},
   "source": [
    " * **RMSE** = root-mean-squared-error without stochastic gradient descent \n",
    " * **RMSE-SGD** = with stochastic gradient descent and default learning rate (1e-1)\n",
    " * **RMSE-SGD-learning rate** = with stochastic gradient descent and learning rate 1e-7\n",
    " "
   ]
  },
  {
   "cell_type": "markdown",
   "metadata": {},
   "source": [
    "Let's scale our training data and try again. \n",
    "* Fit a `MinMaxScaler` to `X_train` create a variable `X_train_scaled`\n",
    "* Using the scaler, transform `X_test` and create a variable `X_test_scaled`\n",
    "* Apply the same versions of SGD to them and compare the results. Don't pass in `eta0` this time "
   ]
  },
  {
   "cell_type": "code",
   "execution_count": 287,
   "metadata": {},
   "outputs": [
    {
     "data": {
      "text/html": [
       "<div>\n",
       "<style>\n",
       "    .dataframe thead tr:only-child th {\n",
       "        text-align: right;\n",
       "    }\n",
       "\n",
       "    .dataframe thead th {\n",
       "        text-align: left;\n",
       "    }\n",
       "\n",
       "    .dataframe tbody tr th {\n",
       "        vertical-align: top;\n",
       "    }\n",
       "</style>\n",
       "<table border=\"1\" class=\"dataframe\">\n",
       "  <thead>\n",
       "    <tr style=\"text-align: right;\">\n",
       "      <th></th>\n",
       "      <th>RMSE</th>\n",
       "      <th>RMSE-SGD</th>\n",
       "      <th>RMSE-SGD-learningrate</th>\n",
       "      <th>RMSE-SGD-MinMaxScaled</th>\n",
       "    </tr>\n",
       "  </thead>\n",
       "  <tbody>\n",
       "    <tr>\n",
       "      <th>Linear</th>\n",
       "      <td>306369.683423</td>\n",
       "      <td>7.351898e+15</td>\n",
       "      <td>77094.416791</td>\n",
       "      <td>34742.337271</td>\n",
       "    </tr>\n",
       "    <tr>\n",
       "      <th>Ridge</th>\n",
       "      <td>32169.176206</td>\n",
       "      <td>2.836937e+15</td>\n",
       "      <td>75932.791131</td>\n",
       "      <td>77716.607422</td>\n",
       "    </tr>\n",
       "    <tr>\n",
       "      <th>Lasso</th>\n",
       "      <td>39257.393991</td>\n",
       "      <td>6.720309e+15</td>\n",
       "      <td>78696.954293</td>\n",
       "      <td>35429.009736</td>\n",
       "    </tr>\n",
       "    <tr>\n",
       "      <th>ElasticNet</th>\n",
       "      <td>35001.234296</td>\n",
       "      <td>8.221934e+15</td>\n",
       "      <td>79258.109420</td>\n",
       "      <td>34631.328290</td>\n",
       "    </tr>\n",
       "  </tbody>\n",
       "</table>\n",
       "</div>"
      ],
      "text/plain": [
       "                     RMSE      RMSE-SGD  RMSE-SGD-learningrate  \\\n",
       "Linear      306369.683423  7.351898e+15           77094.416791   \n",
       "Ridge        32169.176206  2.836937e+15           75932.791131   \n",
       "Lasso        39257.393991  6.720309e+15           78696.954293   \n",
       "ElasticNet   35001.234296  8.221934e+15           79258.109420   \n",
       "\n",
       "            RMSE-SGD-MinMaxScaled  \n",
       "Linear               34742.337271  \n",
       "Ridge                77716.607422  \n",
       "Lasso                35429.009736  \n",
       "ElasticNet           34631.328290  "
      ]
     },
     "execution_count": 287,
     "metadata": {},
     "output_type": "execute_result"
    }
   ],
   "source": [
    "# Use scaled train and test data (Hint: use scaler.fit_transform)\n",
    "# don't pass eta0 \n",
    "from sklearn.preprocessing import MinMaxScaler\n",
    "scaler = MinMaxScaler()\n",
    "\n",
    "X_train_scaled = scaler.fit_transform(X_train)\n",
    "X_test_scaled = scaler.transform(X_test)\n",
    "\n",
    "new_rmses = {}\n",
    "for modellabel, parameters in model_parameters_dict.items(): \n",
    "    SGD = SGDRegressor(**parameters)\n",
    "    SGD.fit(X_train_scaled, y_train)\n",
    "    new_rmses[modellabel] = rmse(y_test, SGD.predict(X_test_scaled))\n",
    "    \n",
    "rmse_df['RMSE-SGD-MinMaxScaled'] = pd.Series(new_rmses)\n",
    "rmse_df\n"
   ]
  },
  {
   "cell_type": "code",
   "execution_count": 298,
   "metadata": {},
   "outputs": [
    {
     "data": {
      "text/html": [
       "<div>\n",
       "<style>\n",
       "    .dataframe thead tr:only-child th {\n",
       "        text-align: right;\n",
       "    }\n",
       "\n",
       "    .dataframe thead th {\n",
       "        text-align: left;\n",
       "    }\n",
       "\n",
       "    .dataframe tbody tr th {\n",
       "        vertical-align: top;\n",
       "    }\n",
       "</style>\n",
       "<table border=\"1\" class=\"dataframe\">\n",
       "  <thead>\n",
       "    <tr style=\"text-align: right;\">\n",
       "      <th></th>\n",
       "      <th>RMSE</th>\n",
       "      <th>RMSE-SGD</th>\n",
       "      <th>RMSE-SGD-learningrate</th>\n",
       "      <th>RMSE-SGD-MinMaxScaled</th>\n",
       "      <th>RMSE-SGD-MinMaxScaled-learningrate</th>\n",
       "    </tr>\n",
       "  </thead>\n",
       "  <tbody>\n",
       "    <tr>\n",
       "      <th>Linear</th>\n",
       "      <td>306369.683423</td>\n",
       "      <td>7.351898e+15</td>\n",
       "      <td>77094.416791</td>\n",
       "      <td>34742.337271</td>\n",
       "      <td>45966.442358</td>\n",
       "    </tr>\n",
       "    <tr>\n",
       "      <th>Ridge</th>\n",
       "      <td>32169.176206</td>\n",
       "      <td>2.836937e+15</td>\n",
       "      <td>75932.791131</td>\n",
       "      <td>77716.607422</td>\n",
       "      <td>78063.264318</td>\n",
       "    </tr>\n",
       "    <tr>\n",
       "      <th>Lasso</th>\n",
       "      <td>39257.393991</td>\n",
       "      <td>6.720309e+15</td>\n",
       "      <td>78696.954293</td>\n",
       "      <td>35429.009736</td>\n",
       "      <td>45635.080080</td>\n",
       "    </tr>\n",
       "    <tr>\n",
       "      <th>ElasticNet</th>\n",
       "      <td>35001.234296</td>\n",
       "      <td>8.221934e+15</td>\n",
       "      <td>79258.109420</td>\n",
       "      <td>34631.328290</td>\n",
       "      <td>46015.675690</td>\n",
       "    </tr>\n",
       "  </tbody>\n",
       "</table>\n",
       "</div>"
      ],
      "text/plain": [
       "                     RMSE      RMSE-SGD  RMSE-SGD-learningrate  \\\n",
       "Linear      306369.683423  7.351898e+15           77094.416791   \n",
       "Ridge        32169.176206  2.836937e+15           75932.791131   \n",
       "Lasso        39257.393991  6.720309e+15           78696.954293   \n",
       "ElasticNet   35001.234296  8.221934e+15           79258.109420   \n",
       "\n",
       "            RMSE-SGD-MinMaxScaled  RMSE-SGD-MinMaxScaled-learningrate  \n",
       "Linear               34742.337271                        45966.442358  \n",
       "Ridge                77716.607422                        78063.264318  \n",
       "Lasso                35429.009736                        45635.080080  \n",
       "ElasticNet           34631.328290                        46015.675690  "
      ]
     },
     "execution_count": 298,
     "metadata": {},
     "output_type": "execute_result"
    }
   ],
   "source": [
    "new_rmses = {}\n",
    "for modellabel, parameters in model_parameters_dict.items(): \n",
    "    SGD = SGDRegressor(eta0 = 1e-3, **parameters) # default eta0 of 1e-2 is better\n",
    "    SGD.fit(X_train_scaled, y_train)\n",
    "    new_rmses[modellabel] = rmse(y_test, SGD.predict(X_test_scaled))\n",
    "    \n",
    "rmse_df['RMSE-SGD-MinMaxScaled-learningrate'] = pd.Series(new_rmses)\n",
    "rmse_df"
   ]
  },
  {
   "cell_type": "code",
   "execution_count": null,
   "metadata": {
    "collapsed": true
   },
   "outputs": [],
   "source": []
  }
 ],
 "metadata": {
  "kernelspec": {
   "display_name": "Python [conda env:idp]",
   "language": "python",
   "name": "conda-env-idp-py"
  },
  "language_info": {
   "codemirror_mode": {
    "name": "ipython",
    "version": 3
   },
   "file_extension": ".py",
   "mimetype": "text/x-python",
   "name": "python",
   "nbconvert_exporter": "python",
   "pygments_lexer": "ipython3",
   "version": "3.6.3"
  }
 },
 "nbformat": 4,
 "nbformat_minor": 2
}
